{
 "cells": [
  {
   "cell_type": "markdown",
   "metadata": {
    "id": "dBmd8kyLfMIg"
   },
   "source": [
    "## Paired Switching\n",
    "\n",
    "The idea behind this strategy is that if the assets are negatively correlated, then a traditional mixed portfolio might lead to a lower return than the return for the individual assets.\n",
    "\n",
    "We periodically compute the Co-relation Coefficients' Matrix and choose pair of stocks which have the most negative co-relations and trade in them. The basic idea being that if one of them would fall, then the other would rise and hence, we must switch between them!\n",
    "\n",
    "We need a re-balancing period ,i.e. The time after which we would be again calculating the co-relations and taking a different pair of stocks : **T**\n",
    "\n",
    "We would also need to keep switching between these selected stocks in a pair at a certain interval of time : **P**\n",
    "\n",
    "Next, We need to specify how many such pairs would we be trading in : **M**\n",
    "\n",
    "The Fraction of the total balance we would be investing on every turn : **R**\n",
    "\n",
    "The Brokerage Fee as a fraction of the total transaction amount : **F**\n",
    "\n"
   ]
  },
  {
   "cell_type": "code",
   "execution_count": 2,
   "metadata": {
    "id": "KhmpNcaUextd"
   },
   "outputs": [],
   "source": [
    "import numpy as np\n",
    "import pandas as pd\n",
    "import datetime\n",
    "import matplotlib.pyplot as plt\n",
    "import seaborn as sns\n",
    "\n",
    "T = 60\n",
    "P = 7\n",
    "M = 4\n",
    "R = 0.8\n",
    "F = 0.005\n",
    "N = 50"
   ]
  },
  {
   "cell_type": "markdown",
   "metadata": {
    "id": "6zepnFA0xjvI"
   },
   "source": [
    "### Few Upcoming Functions(GetData and PartitionData) would be similar to the ones you encountered in the Momentum Assignment (Feel free to Copy-Paste your code from there!)"
   ]
  },
  {
   "cell_type": "markdown",
   "metadata": {
    "id": "YZQH1NuRyGLy"
   },
   "source": [
    "In the file DATA.csv , which we had uploaded in our repository, we have prices of 30 firms enlisted in S & P 500 Index (Apple, IBM, Cisco, Walmart and the like!) from 2nd January 2009 to 17th August 2020.\n",
    "\n",
    "For our purposes, We'll only be requiring certain columns. On an honest note, Just getting the Columns on Ticker, Date and Adjusted Closing Price would do the job, but if you want, you may take Opening Price as well.\n",
    "\n",
    "Read up about the [pandas.read_csv](https://pandas.pydata.org/docs/reference/api/pandas.read_csv.html) function from here, and figure out how you'll use it to do the job (You don't need all the columns!) "
   ]
  },
  {
   "cell_type": "code",
   "execution_count": 3,
   "metadata": {
    "id": "Ka_L9Ne6yOGY"
   },
   "outputs": [],
   "source": [
    "def GetData(NameOfFile):\n",
    "  #START CODE HERE\n",
    "    data = pd.read_csv(NameOfFile,usecols = [\"datadate\",\"tic\",\"adjcp\"])\n",
    "    data = pd.DataFrame(data)\n",
    "    return data# pd.DataFrame Object"
   ]
  },
  {
   "cell_type": "markdown",
   "metadata": {
    "id": "xJILaZUYySQW"
   },
   "source": [
    "To aid Data-Manipulation, it would be beneficial, if we split the DataFrame into many small parts each corresponding to the data corresponding to the 30 Tickers on a particular date. These small parts could then be stored in a list.\n",
    "\n",
    "We would also be needing to remember which date is at what index, so that we can use that later. "
   ]
  },
  {
   "cell_type": "code",
   "execution_count": 4,
   "metadata": {
    "id": "I0jUbPe_yiGU"
   },
   "outputs": [],
   "source": [
    "def PartitionData(Data):\n",
    "  \n",
    "    DateToIndex = {}\n",
    "    List = []\n",
    "    for i in range(0,len(Data),30):\n",
    "        row = Data.iloc[i]\n",
    "        DateToIndex[row[0]] = i//30\n",
    "        List.append(Data[i:i+30])\n",
    "        #np.append(List,Data.loc[i<=Data['ind']<i+30])\n",
    "        #np.append(List,Data[i:i+30])\n",
    "\n",
    "    return List, DateToIndex # List containing of the Data Partitioned according to Date, and the Dictionary mapping Dates to their index in the list "
   ]
  },
  {
   "cell_type": "markdown",
   "metadata": {
    "id": "abBu6bdrqpcD"
   },
   "source": [
    "Now, We need a function which takes as input a pair of stocks (as indices in range 0-29), Today's date,  alongwith the Partitioned DataFrames which will tell us which of the two stocks has a better outlook for the future, and we'll simply move all our Money from one of them to the other. \n",
    "\n",
    "This will be done once in every **P** trading sessions.\n",
    "\n",
    "You could choose between the two stocks in a number of ways, the simplest of which can be what you did in the last assignment, the Momentum Indicator (i.e. Take the difference between the prices of the stocks in a certain number of days and do your deed! Remember this number of days **N** must be <= **T**)\n",
    "\n",
    "You may also use other indicators like [RSI](https://www.investopedia.com/terms/r/rsi.asp), [Stochs](https://www.investopedia.com/terms/s/stochasticoscillator.asp), [MACD](https://www.investopedia.com/terms/m/macd.asp) or anything else! (If you decide to use MACD or RSI, you could either implement other functions to calculate them or simply change your ParitionData() function to get the MACD and RSI values as they are already stored there for you!)\n",
    "\n",
    "You need not worry about getting the nearest dates (or dates at all) in this case, because all you care about is co-relations in long term and growth in short-term so it doesn't matter if you're ahead or behind a few days!\n",
    "\n",
    "'today' would be an index(integer), i.e. an index on the PartitionedDataFrames list denoting where we are at currently!\n",
    "\n",
    "Also, as you may have figured it out yourself, while DataFrames are great for Data Handling and small statistical calculations, They aren't so for big calculations as the Numpy Library has both a richer variety of functions for such manipulations and is also more efficient!\n"
   ]
  },
  {
   "cell_type": "code",
   "execution_count": 5,
   "metadata": {},
   "outputs": [],
   "source": [
    "def GetMomentumBasedPriority(PartitionedDataFrameList, DateToIndex ,today):\n",
    "  # PartitionedDataFrameList : Pandas DataFrame, The Output of your last function\n",
    "  # DateToIndex : Dictionary mapping dates to their index in the PartitionedDataFrameList\n",
    "  # today :  Today's date (string) In Format: YYYYMMDD\n",
    "\n",
    "\n",
    "  #NdaysAgo is a datatime.date() object contining the required data, you need to convert it to a string and then check if its\n",
    "  #actually there in the Data you have or will you have to get going using some other nearest date\n",
    "    today = str(today)\n",
    "    NdaysAgo = datetime.date(int(today[0:4]),int(today[4:6]),int(today[6:])) + datetime.timedelta(days = -N)\n",
    "    NdaysAgo = datetime.datetime.strftime(NdaysAgo,\"%Y%m%d\")\n",
    "    mbym = np.zeros(30)\n",
    "    if(int(NdaysAgo) in list(DateToIndex.keys())):\n",
    "            for i in range(0,30):\n",
    "                mean = 0\n",
    "                for j in range(DateToIndex[int(NdaysAgo)],DateToIndex[int(today)]+1):\n",
    "                    mean += PartitionedDataFrameList[j].iloc[i]['adjcp']\n",
    "                mean = mean/N\n",
    "                mbym[i] = (PartitionedDataFrameList[DateToIndex[int(today)]].iloc[i]['adjcp'] - PartitionedDataFrameList[DateToIndex[(int(NdaysAgo))]].iloc[i]['adjcp'])*1.0/mean\n",
    "\n",
    "    else: \n",
    "            m = 0 \n",
    "            for j in range(1,N):\n",
    "                n = datetime.date(int(today[0:4]),int(today[4:6]),int(today[6:])) + datetime.timedelta(days = -N + j)\n",
    "                n = datetime.datetime.strftime(n,\"%Y%m%d\")\n",
    "                if(int(n) in list(DateToIndex.keys())):\n",
    "                    m = int(n)\n",
    "                    break\n",
    "            \n",
    "            for i in range(0,30):\n",
    "                mean = 0\n",
    "                for j in range(DateToIndex[int(m)],DateToIndex[int(today)]+1):\n",
    "                    mean += PartitionedDataFrameList[j].iloc[i]['adjcp']\n",
    "                mean /= DateToIndex[int(today)] - DateToIndex[int(m)]\n",
    "                mbym[i] = (PartitionedDataFrameList[DateToIndex[int(today)]].iloc[i]['adjcp'] - PartitionedDataFrameList[DateToIndex[m]].iloc[i]['adjcp'])/1.0*mean\n",
    "\n",
    "\n",
    "    return mbym  #Numpy Array containing the Momentum divided by mean(in the N-day period considered) of all the 30 tickers, in the required order.\n",
    "\n"
   ]
  },
  {
   "cell_type": "code",
   "execution_count": 6,
   "metadata": {
    "id": "hUViRxVXwrB5"
   },
   "outputs": [],
   "source": [
    "def Switch(firstStock, secondStock, today ,PartitionedDataFrameList,DateToIndex):\n",
    "    ar = GetMomentumBasedPriority(PartitionedDataFrameList, DateToIndex ,today)\n",
    "    a = False\n",
    "    if(ar[firstStock] < ar[secondStock]):\n",
    "            a = True\n",
    "    return secondStock if a else firstStock     #One of two(firstStock/SecondStock) depending on which should grow more in the future."
   ]
  },
  {
   "cell_type": "markdown",
   "metadata": {
    "id": "CBZqJ_CszZbL"
   },
   "source": [
    "Now, We need something to simulate our [Portfolio](https://www.investopedia.com/terms/p/portfolio.asp). In order to do that we need a class, which has certain  basic features and functionalities.\n",
    "\n",
    "(Again some of the functions here, would be same as the previous assignment, so feel free to Copy-Paste)\n",
    "\n",
    "Features : \n",
    "\n",
    "\n",
    "1.   Your Initial Balance\n",
    "2.   Your Current Balance (Money which isn't invested!)\n",
    "3.   A list(/any other container) storing the number of stocks of each ticker currently in possession. (Numpy Array prefered)\n",
    "4.   Most recent prices of all the stocks (As a Numpy array)\n",
    "5.   A list of **M** or less(as it might be that less than **M** stocks are negatively co-related) Tuples of indices (i,j) where i and j are the indices (from 0-29) of stocks which are negatively co-related.\n",
    "\n",
    "Functionalities: \n",
    "\n",
    "\n",
    "\n",
    "1.   Calculating current Net Worth (Balance+Total Evaluation of all Stocks owned!) \n",
    "2.   Buying a Particular Stock (Keep the Transaction fee in mind!)\n",
    "3.   Selling a particular Stock whole (Keep the Transaction Fee in mind!)\n",
    "4.   Change Pairs (**T** period intervals) (Takes PartitionedDataFrame, DateT and today's date as input)\n",
    "5.   Rebalance Portfolio (**P** period intervals) (Takes O)\n",
    "6.   Function to change the value of most recent prices stored (Takes Numpy array as input)\n",
    "\n",
    "\n",
    "You may want to know about Numpy's Corrcoef ([np.corrcoef](https://numpy.org/doc/stable/reference/generated/numpy.corrcoef.html)) function!\n"
   ]
  },
  {
   "cell_type": "code",
   "execution_count": 7,
   "metadata": {
    "id": "SFJOHvgS1aq0"
   },
   "outputs": [],
   "source": [
    "class PortFolio:\n",
    "    def __init__(self,initBal):\n",
    "        self.initBal = initBal\n",
    "        self.currBal = initBal\n",
    "        self.currStock = np.zeros(30)\n",
    "        self.recPric = np.zeros(30)\n",
    "        self.corrLis = []\n",
    "        for i in range(M):\n",
    "            self.corrLis.append(tuple([-1.-1]))\n",
    "    #Initialize all variables\n",
    "\n",
    "    def SellStock(self,index):\n",
    "        #index : The index of the Stock to sell (0-29)\n",
    "        self.currBal += self.currStock[index]*self.recPric[index]*(1-F)\n",
    "        self.currStock[index] = 0\n",
    "        \n",
    "    \n",
    "  \n",
    "    def BuyStock(self,index,number):\n",
    "        #index : The index of the Stock to buy (0-29) \n",
    "        #number : Number of shares to buy (float)\n",
    "        self.currStock[index] += number\n",
    "        self.currBal -= self.recPric[index]*number*(1+F)\n",
    "        \n",
    "    def CalculateNetWorth(self):\n",
    "        #Return Net Worth (All Shares' costs+ Balance)\n",
    "        stonk = 0\n",
    "        for j in range(0,30):\n",
    "            stonk += self.recPric[j]*self.currStock[j]\n",
    "        return stonk + self.currBal\n",
    "\n",
    "\n",
    "    def ChangePricesTo(self, newPriceVector):\n",
    "        for i in range(0,30):\n",
    "            self.recPric[i] = newPriceVector[i]\n",
    "    \n",
    "    def ChangePairs(self,PartitionedDataFrames,DateToIndex,today):  \n",
    "    # Calls the Switch function for all the pairs of stocks owned\n",
    "    \n",
    "            for i in range(0,len(self.corrLis)):\n",
    "                better_stock = Switch(self.corrLis[i][0],self.corrLis[i][1], today ,PartitionedDataFrames,DateToIndex)\n",
    "                if(self.currStock[better_stock] != 0):\n",
    "                    pass\n",
    "                else:\n",
    "                    if(better_stock == self.corrLis[i][0]):\n",
    "                        self.BuyStock(self.corrLis[i][0],self.currStock[self.corrLis[i][1]])\n",
    "                        self.SellStock(self.corrLis[i][1])\n",
    "                        \n",
    "                    else: \n",
    "                        self.BuyStock(self.corrLis[i][1],self.currStock[self.corrLis[i][0]])\n",
    "                        self.SellStock(self.corrLis[i][0])\n",
    "                        \n",
    "        \n",
    "  \n",
    "    def RebalancePortfolio(self,PartitionedDataFrames,DateToIndex,today):\n",
    "    \n",
    "    # Calculates the Co-relation Matrix and changes the list of pairs, which you'll be using to trade\n",
    "        arr = np.zeros((30,T))\n",
    "        corr = np.ones((30,30))\n",
    "        arr2 = np.zeros(30)\n",
    "        for i in range(30):           \n",
    "            h = 0\n",
    "            for j in range(DateToIndex[int(today)]-T+1,DateToIndex[int(today)]+1):\n",
    "                arr[i][h] = PartitionedDataFrames[j].iloc[i]['adjcp']\n",
    "                h += 1\n",
    "        for i in range(30):\n",
    "            for j in range(i+1,30):\n",
    "                C = np.corrcoef(arr[i],arr[j]) \n",
    "                corr[i][j] = corr[j][i] = C[0][1] \n",
    "        \n",
    "        for i in range(30):\n",
    "            arr2[i] = corr[i].min()\n",
    "        arr2 = np.sort(arr2)[::-1]\n",
    "        while(len(arr2) != M):\n",
    "            arr2 = np.delete(arr2,len(arr2)-1)\n",
    "        for i in range(M):\n",
    "            x = np.where(corr == arr2[i])\n",
    "            self.corrLis[i] = tuple([x[0][0],x[1][0]])\n",
    "        self.ChangePairs(PartitionedDataFrames,DateToIndex,today)\n",
    "    # You'll have to take care of cases, where a single stock would be involved in two or more of the most negatively co-related Stocks\n",
    "    # It would be a good idea, to call BuyStock and SellStock from here itself, instead of calling ChangePairs later as it will cause havoc that way\n",
    "    \n",
    "\n",
    "\n",
    "\n"
   ]
  },
  {
   "cell_type": "markdown",
   "metadata": {
    "id": "S2Sv0OPB6QiL"
   },
   "source": [
    "With that the difficult part is over!\n",
    "\n",
    "Now, all you need to work on is a main loop, which calls all these functions"
   ]
  },
  {
   "cell_type": "code",
   "execution_count": 22,
   "metadata": {
    "id": "8qTWYyDn6mjt"
   },
   "outputs": [],
   "source": [
    "initbal = 500\n",
    "myPortfolio = PortFolio(initbal)\n",
    "NetWorthAfterEachTrade = []\n",
    "\n",
    "\n",
    "#First Get the Data\n",
    "Data = GetData('DATA.csv')\n",
    "PartitionedData, DateToIndex= PartitionData(Data)\n",
    "#to buy some stocks\n",
    "for i in range(30):\n",
    "    myPortfolio.BuyStock(i,20)\n",
    "\n",
    "t = T\n",
    "#Start processing from the (T+1)th Day(among the ones recorded in the Data)\n",
    "for i in range(T+1,len(DateToIndex.keys())):\n",
    "    # Change the Prices to the ith Term\n",
    "    for j in range(30):\n",
    "        myPortfolio.recPric[j] = PartitionedData[i].iloc[j][2]\n",
    "  # Get NetWorth and store in list\n",
    "    NetWorthAfterEachTrade.append(myPortfolio.CalculateNetWorth())\n",
    "  # Check if you need to rebalance Portfolio's Today\n",
    "    if(t != T):\n",
    "        t += 1\n",
    "        continue\n",
    "    else:\n",
    "        t = 0\n",
    "        if(myPortfolio.currBal < R*initbal):\n",
    "            continue\n",
    "    myPortfolio.RebalancePortfolio(PartitionedData, DateToIndex,list(DateToIndex.keys())[i]) \n",
    "  # Check if you need to switch stocks today\n",
    "    \n",
    "\n"
   ]
  },
  {
   "cell_type": "markdown",
   "metadata": {
    "id": "kwewPN3O6yIF"
   },
   "source": [
    "You may need to declare the PartitionedData list global, depending on your implementation of the Above snippet as well as the various functions in the Portfolio class."
   ]
  },
  {
   "cell_type": "markdown",
   "metadata": {
    "id": "7JBJY3YU7M2C"
   },
   "source": [
    "## Moment of Truth\n",
    "\n",
    "Time to check, if your Program actually works!\n",
    "\n",
    "Plot the data you collected in various ways (Profits, PercentageProfits etc.) and see if what you did worked!\n",
    "\n",
    "Feel free to use whichever one of Matplotlib or Seaborn you want to.\n",
    "\n",
    "Feel free to copy-paste your code from the previous assignment!"
   ]
  },
  {
   "cell_type": "code",
   "execution_count": 18,
   "metadata": {
    "id": "lPQny8RK7tmN"
   },
   "outputs": [],
   "source": [
    "def VisualizeData(array,day1,day2):\n",
    "    plt.plot(NetWorthAfterEachTrade[day1:day2],color='red')\n",
    "    plt.xlabel('days')\n",
    "    plt.ylabel('networth')\n",
    "    plt.title('Stonks')\n",
    "    plt.show()"
   ]
  },
  {
   "cell_type": "code",
   "execution_count": 23,
   "metadata": {
    "scrolled": false
   },
   "outputs": [
    {
     "data": {
      "image/png": "[encoded data removed]",
      "text/plain": [
       "<Figure size 432x288 with 1 Axes>"
      ]
     },
     "metadata": {
      "needs_background": "light"
     },
     "output_type": "display_data"
    }
   ],
   "source": [
    "VisualizeData(NetWorthAfterEachTrade,0,10000)"
   ]
  },
  {
   "cell_type": "markdown",
   "metadata": {
    "id": "lsAUyiuk9r6v"
   },
   "source": [
    "You may use this cell to write about your results/performance of the model!"
   ]
  }
 ],
 "metadata": {
  "colab": {
   "collapsed_sections": [],
   "name": "Pairs.ipynb",
   "provenance": []
  },
  "kernelspec": {
   "display_name": "Python 3",
   "language": "python",
   "name": "python3"
  },
  "language_info": {
   "codemirror_mode": {
    "name": "ipython",
    "version": 3
   },
   "file_extension": ".py",
   "mimetype": "text/x-python",
   "name": "python",
   "nbconvert_exporter": "python",
   "pygments_lexer": "ipython3",
   "version": "3.8.5"
  }
 },
 "nbformat": 4,
 "nbformat_minor": 1
}
