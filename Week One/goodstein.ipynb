{
 "cells": [
  {
   "cell_type": "code",
   "execution_count": null,
   "metadata": {},
   "outputs": [],
   "source": [
    "import math\n",
    "def hereditary(m,n):\n",
    "    if(m <= n):\n",
    "        return [m]\n",
    "    answer = []\n",
    "    m1 = m\n",
    "    while(m1>0):\n",
    "        if(m1 <= 0):\n",
    "            break\n",
    "        power = math.floor(math.log(m1,n))\n",
    "        itera = 0\n",
    "        for i in range(0,power+1):\n",
    "            if(n**i  >  m1):\n",
    "                break\n",
    "            itera+=1\n",
    "        maxpower = itera -  1\n",
    "        maxmult = math.floor(m1/(n**maxpower))\n",
    "        itera2 = 0\n",
    "        for j in range(1,maxmult+1):\n",
    "            if((n**maxpower)*j > m1):\n",
    "                 break \n",
    "            itera2+=1\n",
    "        m1 = m1 - itera2*(n**maxpower)\n",
    "        if(itera2 == 0):\n",
    "            break\n",
    "        \n",
    "        answer.append([itera2,n,hereditary(maxpower,n)])\n",
    "\n",
    "    return answer\n",
    "\n"
   ]
  },
  {
   "cell_type": "code",
   "execution_count": null,
   "metadata": {},
   "outputs": [],
   "source": [
    "def replace_integer(s,p,q):\n",
    "    if(s==p):\n",
    "        return q\n",
    "    else:\n",
    "        return s\n",
    "\n",
    "def recursively_apply(l, f,p,q):\n",
    "    #replace p with q\n",
    "    for n, i in enumerate(l):\n",
    "        if type(i) is type([]):\n",
    "            l[n] = recursively_apply(l[n], f,p,q)\n",
    "        elif type(i) is int:\n",
    "            l[n] = f(i,p,q)\n",
    "    return l\n",
    "def replace(G,p,q):\n",
    "    return recursively_apply(G, replace_integer,p,q)\n"
   ]
  },
  {
   "cell_type": "code",
   "execution_count": null,
   "metadata": {},
   "outputs": [],
   "source": [
    "def convertgoodtonum(G):\n",
    "    sum = 0\n",
    "    if(len(G)==1 and type(G[0]) != type([])):\n",
    "        return G[0]\n",
    "    for j in G:\n",
    "            sum+=j[0]*(j[1]**(convertgoodtonum(j[2])))\n",
    "    return sum"
   ]
  },
  {
   "cell_type": "code",
   "execution_count": null,
   "metadata": {},
   "outputs": [],
   "source": [
    "def printgood(m,n):\n",
    "    if(m==1):\n",
    "        return 0\n",
    "    if(n == 1):\n",
    "        return m\n",
    "    #temp = hereditary(m,n)\n",
    "    #temp = replace(temp,n,n+1)\n",
    "    num = convertgoodtonum(replace(hereditary(m,n),n,n+1))\n",
    "    return num - 1\n",
    "def printseq(m,maxtries=1000):\n",
    "    i = 1\n",
    "    while(1>0):\n",
    "        if(i>maxtries):\n",
    "            break\n",
    "        if(i==1):\n",
    "            print(m)\n",
    "            print('\\n')\n",
    "            i+=1\n",
    "            continue\n",
    "        if(printgood(m,i)==1):\n",
    "            print(1)\n",
    "            print('\\n')\n",
    "            print(0)\n",
    "            break\n",
    "        print(printgood(m,i))\n",
    "        print('\\n')\n",
    "        m = printgood(m,i)\n",
    "        i+=1\n",
    "    return []"
   ]
  },
  {
   "cell_type": "markdown",
   "metadata": {},
   "source": [
    "Goodstein sequences have the remarkable property of being guaranteed to go to zero despite a rapid growth."
   ]
  },
  {
   "cell_type": "code",
   "execution_count": null,
   "metadata": {},
   "outputs": [],
   "source": [
    "m = int(input('Enter the number: '))\n",
    "tries = int(input('Enter maximum number of elements needed: '))\n",
    "print(printseq(m,tries))"
   ]
  }
 ],
 "metadata": {
  "kernelspec": {
   "display_name": "Python 3",
   "language": "python",
   "name": "python3"
  },
  "language_info": {
   "codemirror_mode": {
    "name": "ipython",
    "version": 3
   },
   "file_extension": ".py",
   "mimetype": "text/x-python",
   "name": "python",
   "nbconvert_exporter": "python",
   "pygments_lexer": "ipython3",
   "version": "3.8.5"
  }
 },
 "nbformat": 4,
 "nbformat_minor": 4
}
