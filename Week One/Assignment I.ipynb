{
 "cells": [
  {
   "cell_type": "markdown",
   "metadata": {},
   "source": [
    "# Assignment: Complete the Snippet\n"
   ]
  },
  {
   "cell_type": "markdown",
   "metadata": {},
   "source": [
    "Shubh started building a basic Python Script which goes through the entire text of a particular book and mugs up all its words. After that it asks you for a word, goes over the times when this word came in the text and gives you the complete sentence in which it was used. You may choose to ask for as many such sentences as the number of occurences of the word.\n",
    "\n",
    "He's managed to come up with the part where he loads the file into Memory. He also managed to come up with snippets of code which could potentially do something if completed, but he has many deadlines to look after and not enough caffeine to turn to code. Can you help him?"
   ]
  },
  {
   "cell_type": "code",
   "execution_count": 1,
   "metadata": {},
   "outputs": [],
   "source": [
    "File = open(\"HarryPotterAndTheSorcerersStone.txt\", encoding=\"utf8\")     #This helps in opening the file which is to be read"
   ]
  },
  {
   "cell_type": "markdown",
   "metadata": {},
   "source": [
    "Next he makes a list of all the words present in the novel mapping them to their index(position) in the list of words (i.e. ListOfWords). This is done by mapping every word (a string) to a list (list of indices), and this is stored as a Dictionary (DictionaryoOfWords)\n",
    "\n",
    "\n",
    "\n",
    "He makes use of the readlines() method which is used to extract all the lines from any text and the split() function which could be used to split any sentence into distinct words. The replace() method is used on strings to replace certain segments of the string with something else."
   ]
  },
  {
   "cell_type": "code",
   "execution_count": 2,
   "metadata": {},
   "outputs": [],
   "source": [
    "DictionaryOfWords = {}         #Dictionary mapping every word to a list (of indices of the words' occurences)\n",
    "Novel = []                     #List of all words in the order, in which they appear!\n",
    "\n",
    "\n",
    "\n",
    "i = 0                   #Counter Variable to keep track of index of words\n",
    "\n",
    "for line in File.readlines():     #Iterate over all lines present in the text\n",
    "    \n",
    "    #Look at Python's Conciseness!\n",
    "    line.rstrip() \n",
    "    line = line.replace(\".\",\"\").replace(\",\",\"\").replace('?','').replace('!','').replace('[','').replace(']','') \\\n",
    "    .replace('(','').replace(')','').replace('%','').replace('/','').replace('\\\\','')\n",
    "     \n",
    "    #COMPLETE THE CODE FROM HERE:\n",
    "    \n",
    "    #This would split the line into many different words, and iterate over these words\n",
    "    \n",
    "    for word in line.split(' '): \n",
    "        if '\\n' in word:\n",
    "            word = word.rstrip()\n",
    "        if word in DictionaryOfWords.keys():     #If the word is already present in the dictionary\n",
    "                                                                             \n",
    "              DictionaryOfWords[word].append(i)       #Add the index into the pre-existing list for this word\n",
    "                                                                             \n",
    "        else:\n",
    "                    #Create a new list of indices for this word, with a single element\n",
    "              DictionaryOfWords[word] = [i]\n",
    "        \n",
    "        Novel.append(word)        #Add the Word in the Novel's ordered list of words\n",
    "                                                                             \n",
    "        i+=1\n"
   ]
  },
  {
   "cell_type": "markdown",
   "metadata": {},
   "source": [
    "That guy truly left a lot of work for you!\n",
    "\n",
    "Now that you've done that, We have the words in the novel alongwith where they appeared in the text loaded into memory (Thanks to You!).\n",
    "\n",
    "The Next Step would be to answer any queries the user may have.\n",
    "\n",
    "To do this, we define the function GetQuery() which returns the word as well as the number of results the user wants to see (as a tuple):\n",
    "\n"
   ]
  },
  {
   "cell_type": "code",
   "execution_count": 3,
   "metadata": {},
   "outputs": [],
   "source": [
    "#COMPLETE THE CODE FROM HERE:\n",
    "\n",
    "def GetQuery():\n",
    "   \n",
    "    word = input(\"Enter the word: \")       #Get Input from the user regarding what word s/he wants to query for\n",
    "\n",
    "    Number = int(input(\"Enter the number of results wanted: \"))      #Get Input from the user regarding how many results the user wants to see\n",
    "\n",
    "    return (word,Number)                 #Return as output a tuple of the word and the Number of results       "
   ]
  },
  {
   "cell_type": "markdown",
   "metadata": {},
   "source": [
    "Now, We need a function which takes as input the index of any particular word and prints the words surrounding it as if they were in an actual sentence. \n",
    "\n",
    "This is done by iterating over the words surrounding it, and printing them with gaps in between. We also assume that this occurence isn't a boundary case and thus, the 10 words surronding it actually exist."
   ]
  },
  {
   "cell_type": "code",
   "execution_count": 4,
   "metadata": {},
   "outputs": [],
   "source": [
    "def PrintContext(index):\n",
    "    \n",
    "    global Novel                          #Declares the list Novel as a Global Variable\n",
    "    \n",
    "    #COMPLETE THE CODE FROM HERE:\n",
    "    #TWO extra conditionals added for the boundary case\n",
    "    if(index<=4):\n",
    "        for i in range(0,index+5):\n",
    "            print(Novel[i],end=' ')\n",
    "    elif(index>=len(Novel)-5):\n",
    "        for i in range(index-5,len(Novel)):\n",
    "            print(Novel[i],end=' ')\n",
    "    else:\n",
    "        for i in range(index-5,index+6) :           #Define the range so that the task above is fulfilled\n",
    "            print(Novel[i], end = ' ')          #Print the word (using List Indexing) with a space after that\n",
    "        \n",
    "    print('\\n')\n",
    "def printclosecontext(index):\n",
    "    global Novel\n",
    "    if(index<=4):\n",
    "        for i in range(0,index+11):\n",
    "            print(Novel[i],end=' ')\n",
    "    elif(index>=len(Novel)-5):\n",
    "        for i in range(index-11,len(Novel)):\n",
    "            print(Novel[i],end=' ')\n",
    "    else:\n",
    "        for i in range(index-5,index+12) :           #Define the range so that the task above is fulfilled\n",
    "            print(Novel[i], end = ' ')\n",
    "    print('\\n')"
   ]
  },
  {
   "cell_type": "markdown",
   "metadata": {},
   "source": [
    "The result of the GetQuery() function will be passed into a second function which would take as input the word and the number of results to be displayed and do so!"
   ]
  },
  {
   "cell_type": "code",
   "execution_count": 5,
   "metadata": {},
   "outputs": [],
   "source": [
    "def PrintResult(word, NumQuery):\n",
    "  \n",
    "    global DictionaryOfWords                #Allows us to use the Dictionary as a global variable\n",
    "    rep = False\n",
    "    #COMPLETE THE CODE FROM HERE:\n",
    "    \n",
    "    if word in DictionaryOfWords.keys():\n",
    "        L = DictionaryOfWords[word] \n",
    "        for i in range(0,min(len(L),NumQuery)):\n",
    "            #made a little tweak here which will make the code spit out a single sentence if the occurences are closer\n",
    "            #than or equal to 5 words\n",
    "            if(rep==True):\n",
    "                rep = False\n",
    "                continue\n",
    "            if(i!=(len(L)-1) and abs(L[i]-L[i+1])<=5):\n",
    "                printclosecontext(L[i])\n",
    "                rep = True\n",
    "                continue\n",
    "            PrintContext(L[i])             #Actually print the words surrounding the ith occurence of the given word\n",
    "    \n",
    "    #adding a failsafe for when the word is not in the book\n",
    "    else:\n",
    "        print(\"This word is not present in this book. Please try again or press N to exit.\")\n",
    "        "
   ]
  },
  {
   "cell_type": "markdown",
   "metadata": {},
   "source": [
    "Finally, you need an infinite loop which runs until the user wants it to and asks for the next word (if the user wants to query more) or end the loop."
   ]
  },
  {
   "cell_type": "code",
   "execution_count": 6,
   "metadata": {
    "scrolled": false
   },
   "outputs": [
    {
     "name": "stdout",
     "output_type": "stream",
     "text": [
      "Enter the word: yer\n",
      "Enter the number of results wanted: 6\n",
      "“Yeh look a lot like yer dad but yeh’ve got yer mom’s eyes” Uncle Vernon made a \n",
      "\n",
      "I knew yeh weren’t gettin’ yer letters but I never thought \n",
      "\n",
      "Did yeh never wonder where yer parents learned it all” “All \n",
      "\n",
      "“But yeh must know about yer mom and dad” he said \n",
      "\n",
      "of horror “Ah go boil yer heads both of yeh” said \n",
      "\n",
      "Press Y in order to Continue with the next query or N to end.  Please press Enter after entering your choice!N\n",
      " ̶y̶e̶r̶ ̶a̶ ̶w̶i̶z̶a̶r̶d̶,̶ ̶H̶a̶r̶r̶y̶!̶  \n"
     ]
    }
   ],
   "source": [
    "#choice for query should be given after the first query\n",
    "word1, num1 = GetQuery();\n",
    "PrintResult(word1, num1)\n",
    "while 1>0 :   \n",
    "    \n",
    "    Choice = input('Press Y in order to Continue with the next query or N to end.  Please press Enter after entering your choice!')\n",
    "    \n",
    "    #COMPLETE THE CODE FROM HERE:\n",
    "    \n",
    "    if Choice == 'Y' :                     # If the user wants to query \n",
    "        word, num = GetQuery(); #Use some of the past defined function to do so\n",
    "        PrintResult(word, num)\n",
    "        \n",
    "    elif Choice == 'N':\n",
    "        print(' ̶y̶e̶r̶ ̶a̶ ̶w̶i̶z̶a̶r̶d̶,̶ ̶H̶a̶r̶r̶y̶!̶  ')\n",
    "        break\n",
    "    else:\n",
    "        print('Not a valid input, try again\\n')\n",
    "        continue                               "
   ]
  },
  {
   "cell_type": "code",
   "execution_count": null,
   "metadata": {},
   "outputs": [],
   "source": []
  }
 ],
 "metadata": {
  "kernelspec": {
   "display_name": "Python 3",
   "language": "python",
   "name": "python3"
  },
  "language_info": {
   "codemirror_mode": {
    "name": "ipython",
    "version": 3
   },
   "file_extension": ".py",
   "mimetype": "text/x-python",
   "name": "python",
   "nbconvert_exporter": "python",
   "pygments_lexer": "ipython3",
   "version": "3.8.5"
  }
 },
 "nbformat": 4,
 "nbformat_minor": 5
}
